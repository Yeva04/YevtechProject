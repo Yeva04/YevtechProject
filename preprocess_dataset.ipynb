{
 "cells": [
  {
   "cell_type": "markdown",
   "id": "9fdda467-0c16-4673-a25f-5cc92d950740",
   "metadata": {},
   "source": [
    "# Data Preprocessing for Student Predictive System\n",
    "This notebook processes the raw dataset `student-mat.csv` to prepare it for model training. It maps categorical features (e.g., studytime, grades) to numerical values, calculates attendance rate, bins performance labels, generates synthetic feedback, and saves the result as `processed_student_data.csv`."
   ]
  },
  {
   "cell_type": "code",
   "execution_count": 6,
   "id": "09355b53-286d-485f-86ea-ac4aaa64047c",
   "metadata": {},
   "outputs": [],
   "source": [
    "import pandas as pd\n",
    "import numpy as np"
   ]
  },
  {
   "cell_type": "markdown",
   "id": "9dd6d9d4-f20c-4276-ab53-1c20f1bf0859",
   "metadata": {},
   "source": [
    "## Load Dataset\n",
    "Loads the raw student dataset from `student-mat.csv` and displays the first few rows."
   ]
  },
  {
   "cell_type": "code",
   "execution_count": 2,
   "id": "14f9f873-9c6f-4a30-8cb8-462b26094272",
   "metadata": {},
   "outputs": [
    {
     "name": "stdout",
     "output_type": "stream",
     "text": [
      "  school sex  age address famsize Pstatus  Medu  Fedu     Mjob      Fjob  ...  \\\n",
      "0     GP   F   18       U     GT3       A     4     4  at_home   teacher  ...   \n",
      "1     GP   F   17       U     GT3       T     1     1  at_home     other  ...   \n",
      "2     GP   F   15       U     LE3       T     1     1  at_home     other  ...   \n",
      "3     GP   F   15       U     GT3       T     4     2   health  services  ...   \n",
      "4     GP   F   16       U     GT3       T     3     3    other     other  ...   \n",
      "\n",
      "  famrel freetime  goout  Dalc  Walc health absences  G1  G2  G3  \n",
      "0      4        3      4     1     1      3        6   5   6   6  \n",
      "1      5        3      3     1     1      3        4   5   5   6  \n",
      "2      4        3      2     2     3      3       10   7   8  10  \n",
      "3      3        2      2     1     1      5        2  15  14  15  \n",
      "4      4        3      2     1     2      5        4   6  10  10  \n",
      "\n",
      "[5 rows x 33 columns]\n"
     ]
    }
   ],
   "source": [
    "df = pd.read_csv('student-mat.csv', sep=';')\n",
    "print(df.head())"
   ]
  },
  {
   "cell_type": "markdown",
   "id": "1694ee28-6166-4eb2-b56a-ced3812fa11f",
   "metadata": {},
   "source": [
    "## Map Features\n",
    "Converts studytime to approximate hours, calculates attendance rate, maps grades to scores (0-100 scale), bins G3 into performance labels, and generates feedback."
   ]
  },
  {
   "cell_type": "code",
   "execution_count": 3,
   "id": "1ec9789b-5530-4bfc-b160-7a9d79b933f1",
   "metadata": {},
   "outputs": [],
   "source": [
    "# Convert studytime to approximate hours\n",
    "studytime_map = {1: 1, 2: 3.5, 3: 7.5, 4: 12}\n",
    "df['study_hours'] = df['studytime'].map(studytime_map)\n",
    "\n",
    "# Approximate attendance_rate (assuming max absences = 100 for simplicity)\n",
    "df['attendance_rate'] = 100 - df['absences']\n",
    "\n",
    "# Map grades to scores (scale 0-20 to 0-100)\n",
    "df['quiz_score'] = df['G1'] * 5\n",
    "df['assignment_score'] = df['G2'] * 5\n",
    "df['exam_score'] = df['G3'] * 5\n",
    "\n",
    "# Bin G3 into performance_label\n",
    "bins = [-float('inf'), 10, 15, float('inf')]\n",
    "labels = ['Poor', 'Average', 'Excellent']\n",
    "df['performance_label'] = pd.cut(df['G3'], bins=bins, labels=labels, include_lowest=True)\n",
    "\n",
    "# Generate synthetic feedback based on performance_label\n",
    "feedback_map = {\n",
    "    'Poor': \"Needs to attend more classes and study regularly.\",\n",
    "    'Average': \"Good effort but needs improvement in consistency.\",\n",
    "    'Excellent': \"Excellent performance, keep it up!\"\n",
    "}\n",
    "df['feedback'] = df['performance_label'].map(feedback_map)"
   ]
  },
  {
   "cell_type": "markdown",
   "id": "14d40809-16ed-4d85-bc25-65b05c16f032",
   "metadata": {},
   "source": [
    "## Select and Save Data\n",
    "Selects required columns and saves the processed dataset."
   ]
  },
  {
   "cell_type": "code",
   "execution_count": 4,
   "id": "3b554567-12c8-4c3c-a18d-f912c31c609b",
   "metadata": {},
   "outputs": [
    {
     "name": "stdout",
     "output_type": "stream",
     "text": [
      "Dataset processed and saved as 'processed_student_data.csv'\n"
     ]
    }
   ],
   "source": [
    "required_columns = ['attendance_rate', 'assignment_score', 'quiz_score', 'exam_score', 'study_hours', 'feedback', 'performance_label']\n",
    "df_processed = df[required_columns]\n",
    "df_processed.to_csv('processed_student_data.csv', index=False)\n",
    "print(\"Dataset processed and saved as 'processed_student_data.csv'\")"
   ]
  },
  {
   "cell_type": "markdown",
   "id": "b6069396-0c86-4224-9c7e-23cf5adc4fa6",
   "metadata": {},
   "source": [
    "## Visualize Performance Labels\n",
    "Displays a bar plot of the performance label distribution."
   ]
  },
  {
   "cell_type": "code",
   "execution_count": 5,
   "id": "7c1b9ead-6f6e-46f1-b5ce-1020bd8b7366",
   "metadata": {},
   "outputs": [
    {
     "data": {
      "image/png": "[encoded data removed]",
      "text/plain": [
       "<Figure size 640x480 with 1 Axes>"
      ]
     },
     "metadata": {},
     "output_type": "display_data"
    }
   ],
   "source": [
    "import matplotlib.pyplot as plt\n",
    "df_processed['performance_label'].value_counts().plot(kind='bar')\n",
    "plt.title('Distribution of Performance Labels')\n",
    "plt.xlabel('Performance Label')\n",
    "plt.ylabel('Count')\n",
    "plt.show()"
   ]
  },
  {
   "cell_type": "code",
   "execution_count": null,
   "id": "eb35bb90-5d9f-4eca-83e2-a089a97c0d50",
   "metadata": {},
   "outputs": [],
   "source": []
  }
 ],
 "metadata": {
  "kernelspec": {
   "display_name": "Python 3 (ipykernel)",
   "language": "python",
   "name": "python3"
  },
  "language_info": {
   "codemirror_mode": {
    "name": "ipython",
    "version": 3
   },
   "file_extension": ".py",
   "mimetype": "text/x-python",
   "name": "python",
   "nbconvert_exporter": "python",
   "pygments_lexer": "ipython3",
   "version": "3.10.11"
  }
 },
 "nbformat": 4,
 "nbformat_minor": 5
}
